{
  "nbformat": 4,
  "nbformat_minor": 0,
  "metadata": {
    "colab": {
      "provenance": []
    },
    "kernelspec": {
      "name": "python3",
      "display_name": "Python 3"
    },
    "language_info": {
      "name": "python"
    }
  },
  "cells": [
    {
      "cell_type": "code",
      "source": [
        "def price_calc(price, tax) -> int:\n",
        "  price_sum = price + price * tax / 100\n",
        "  print(f\"税込み{price_sum}円です。\")\n",
        "price_calc(110, 10)\n"
      ],
      "metadata": {
        "colab": {
          "base_uri": "https://localhost:8080/"
        },
        "id": "MF8OmhL9zHyh",
        "outputId": "b8a7f5bb-cd6a-475e-f56b-fc41d522667e"
      },
      "execution_count": 4,
      "outputs": [
        {
          "output_type": "stream",
          "name": "stdout",
          "text": [
            "税込み121.0円です。\n"
          ]
        }
      ]
    }
  ]
}