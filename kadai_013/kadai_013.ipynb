{
  "nbformat": 4,
  "nbformat_minor": 0,
  "metadata": {
    "colab": {
      "provenance": []
    },
    "kernelspec": {
      "name": "python3",
      "display_name": "Python 3"
    },
    "language_info": {
      "name": "python"
    }
  },
  "cells": [
    {
      "cell_type": "code",
      "source": [
        "def price_calc(price, tax) -> int:\n",
        "  price_sum = price + price * tax / 100\n",
        "  return price_sum\n",
        "\n",
        "print(f\"税込み{price_calc(110, 10)}円です。\")"
      ],
      "metadata": {
        "colab": {
          "base_uri": "https://localhost:8080/"
        },
        "id": "u4YkA48_9243",
        "outputId": "16bead20-281e-4c4c-c8e1-88dc04bc6c7c"
      },
      "execution_count": 6,
      "outputs": [
        {
          "output_type": "stream",
          "name": "stdout",
          "text": [
            "税込み121.0円です。\n"
          ]
        }
      ]
    }
  ]
}