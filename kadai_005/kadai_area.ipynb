{
  "nbformat": 4,
  "nbformat_minor": 0,
  "metadata": {
    "colab": {
      "provenance": []
    },
    "kernelspec": {
      "name": "python3",
      "display_name": "Python 3"
    },
    "language_info": {
      "name": "python"
    }
  },
  "cells": [
    {
      "cell_type": "code",
      "execution_count": 2,
      "metadata": {
        "colab": {
          "base_uri": "https://localhost:8080/"
        },
        "id": "JBtsUQCSrstX",
        "outputId": "689ff4b6-db0f-480b-84d1-5bcb054ef659"
      },
      "outputs": [
        {
          "output_type": "stream",
          "name": "stdout",
          "text": [
            "75.0cm2\n"
          ]
        }
      ],
      "source": [
        "upper_line = 10\n",
        "lower_line = 20\n",
        "height = 5\n",
        "area = (upper_line + lower_line) * height / 2\n",
        "print(str(area) + \"cm2\")\n"
      ]
    }
  ]
}