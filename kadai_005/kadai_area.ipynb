{
  "nbformat": 4,
  "nbformat_minor": 0,
  "metadata": {
    "colab": {
      "provenance": []
    },
    "kernelspec": {
      "name": "python3",
      "display_name": "Python 3"
    },
    "language_info": {
      "name": "python"
    }
  },
  "cells": [
    {
      "cell_type": "code",
      "execution_count": 2,
      "metadata": {
        "colab": {
          "base_uri": "https://localhost:8080/"
        },
        "id": "JBtsUQCSrstX",
        "outputId": "6cdbe92e-b133-48a6-ef71-0eebcdd272a4"
      },
      "outputs": [
        {
          "output_type": "stream",
          "name": "stdout",
          "text": [
            "75.0cm²\n"
          ]
        }
      ],
      "source": [
        "upper_line = 10\n",
        "lower_line = 20\n",
        "height = 5\n",
        "area = (upper_line + lower_line) * height / 2\n",
        "print(str(area) + \"cm\\u00B2\")\n"
      ]
    }
  ]
}