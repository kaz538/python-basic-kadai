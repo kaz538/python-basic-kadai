{
  "nbformat": 4,
  "nbformat_minor": 0,
  "metadata": {
    "colab": {
      "provenance": []
    },
    "kernelspec": {
      "name": "python3",
      "display_name": "Python 3"
    },
    "language_info": {
      "name": "python"
    }
  },
  "cells": [
    {
      "cell_type": "code",
      "source": [
        "class Human:\n",
        "  def __init__(self, name, age):\n",
        "    self.name = name\n",
        "    self.age = age\n",
        "  def check_adult(self):\n",
        "    if self.age >= 20:\n",
        "      print(f\"{self.name}は大人です。\")\n",
        "    else:\n",
        "      print(f\"{self.name}は大人ではありません。\")\n",
        "\n",
        "taro = Human(\"taro\", 30)\n",
        "jiro = Human(\"jiro\", 21)\n",
        "saburo = Human(\"saburo\", 15)\n",
        "family = [taro, jiro, saburo]\n",
        "for human in family:\n",
        "  human.check_adult()\n"
      ],
      "metadata": {
        "colab": {
          "base_uri": "https://localhost:8080/"
        },
        "id": "5VV9ZjSYOQk7",
        "outputId": "89610785-1d5e-4b56-c81c-a1d213babc0e"
      },
      "execution_count": 2,
      "outputs": [
        {
          "output_type": "stream",
          "name": "stdout",
          "text": [
            "taroは大人です。\n",
            "jiroは大人です。\n",
            "saburoは大人ではありません。\n"
          ]
        }
      ]
    }
  ]
}