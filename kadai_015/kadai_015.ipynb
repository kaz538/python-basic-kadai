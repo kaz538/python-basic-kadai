{
  "nbformat": 4,
  "nbformat_minor": 0,
  "metadata": {
    "colab": {
      "provenance": []
    },
    "kernelspec": {
      "name": "python3",
      "display_name": "Python 3"
    },
    "language_info": {
      "name": "python"
    }
  },
  "cells": [
    {
      "cell_type": "code",
      "source": [
        "class Human:\n",
        "  def __init__(self, name, age):\n",
        "    self.name = name\n",
        "    self.age = age\n",
        "  def setName(self, name):\n",
        "    self.name = name\n",
        "  def setAge(self, age):\n",
        "    self.age = age\n",
        "  def printinfo(self):\n",
        "    print(f\"{self.name}さんは{self.age}歳です。\")\n",
        "\n",
        "taro = Human(\"taro\", \"20\")\n",
        "taro.printinfo()\n",
        "\n",
        "\n"
      ],
      "metadata": {
        "colab": {
          "base_uri": "https://localhost:8080/"
        },
        "id": "kYzVpWxUBGBL",
        "outputId": "c38a7644-3a91-4025-f23b-5e8a5614acc9"
      },
      "execution_count": 10,
      "outputs": [
        {
          "output_type": "stream",
          "name": "stdout",
          "text": [
            "taroさんは20歳です。\n"
          ]
        }
      ]
    }
  ]
}